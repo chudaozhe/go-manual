{
 "cells": [
  {
   "attachments": {},
   "cell_type": "markdown",
   "metadata": {},
   "source": [
    "# Json序列化"
   ]
  },
  {
   "attachments": {},
   "cell_type": "markdown",
   "metadata": {},
   "source": [
    "## json.Marshal / json.Unmarshal"
   ]
  },
  {
   "cell_type": "code",
   "execution_count": 10,
   "metadata": {},
   "outputs": [
    {
     "name": "stdout",
     "output_type": "stream",
     "text": [
      "{\"Id\":1,\"Title\":\"abc\",\"Content\":\"ccccc\"}\n",
      "main.Article{Id:1, Title:\"abc\", Content:\"ccccc\"}\n",
      "abc\n"
     ]
    }
   ],
   "source": [
    "%%\n",
    "type Article struct {\n",
    "\tId      int\n",
    "\tTitle   string\n",
    "\tContent string\n",
    "}\n",
    "a := &Article{\n",
    "\tId:      1,\n",
    "\tTitle:   \"abc\",\n",
    "\tContent: \"ccccc\",\n",
    "}\n",
    "data, _ := json.Marshal(a)\n",
    "fmt.Printf(\"%s\\n\", data)\n",
    "\n",
    "var a2 Article\n",
    "json.Unmarshal(data, &a2)\n",
    "fmt.Printf(\"%#v\\n\", a2)\n",
    "fmt.Println(a2.Title)"
   ]
  },
  {
   "attachments": {},
   "cell_type": "markdown",
   "metadata": {},
   "source": [
    "## 使用json tag指定字段名"
   ]
  },
  {
   "cell_type": "code",
   "execution_count": 11,
   "metadata": {},
   "outputs": [],
   "source": [
    "%%\n",
    "type User struct {\n",
    "\tId   int    `json:\"id\"`\n",
    "\tName string `json:\"name\"`\n",
    "}\n",
    "type Article struct {\n",
    "\tId      int    `json:\"id\"`\n",
    "\tTitle   string `json:\"title\"`\n",
    "\tContent string `json:\"content,omitempty\"` //忽略空值字段\n",
    "\tWeight float64 `json:\"-\"` //指定json序列化时忽略此字段\n",
    "\t*User   `json:\"user,omitempty\"` //想要变成嵌套的json串，需要改为具名嵌套或定义字段tag；想要在嵌套的结构体为空值时，忽略该字段，除了添加omitempty，还需要使用嵌套结构体指针\n",
    "}"
   ]
  },
  {
   "cell_type": "markdown",
   "metadata": {},
   "source": [
    "## 不修改原结构体忽略空值字段"
   ]
  },
  {
   "cell_type": "code",
   "execution_count": 12,
   "metadata": {},
   "outputs": [
    {
     "name": "stdout",
     "output_type": "stream",
     "text": [
      "{\"id\":1,\"name\":\"abc\"}\n"
     ]
    }
   ],
   "source": [
    "%%\n",
    "type Admin struct {\n",
    "\tId       int    `json:\"id\"`\n",
    "\tName     string `json:\"name\"`\n",
    "\tPassword string `json:\"password\"`\n",
    "}\n",
    "type PublicAdmin struct {\n",
    "\t*Admin\n",
    "\tPassword *struct{} `json:\"password,omitempty\"`\n",
    "}\n",
    "a := Admin{\n",
    "\tId:       1,\n",
    "\tName:     \"abc\",\n",
    "\tPassword: \"abc\",\n",
    "}\n",
    "\n",
    "data, _ := json.Marshal(PublicAdmin{\n",
    "\tAdmin: &a,\n",
    "})\n",
    "fmt.Printf(\"%s\\n\", data)"
   ]
  },
  {
   "attachments": {},
   "cell_type": "markdown",
   "metadata": {},
   "source": [
    "## 优雅处理字符串格式的数字"
   ]
  },
  {
   "cell_type": "code",
   "execution_count": 13,
   "metadata": {},
   "outputs": [
    {
     "name": "stdout",
     "output_type": "stream",
     "text": [
      "main.User{Id:1, Score:22}\n",
      "22\n"
     ]
    }
   ],
   "source": [
    "%%\n",
    "type User struct {\n",
    "\tId    int `json:\"id,string\"`\n",
    "\tScore int `json:\"score,string\"` //只需在tag中添加string\n",
    "}\n",
    "json_str := `{\"id\":\"1\", \"score\":\"22\"}`\n",
    "var u User\n",
    "json.Unmarshal([]byte(json_str), &u)\n",
    "fmt.Printf(\"%#v\\n\", u)\n",
    "fmt.Println(u.Score)"
   ]
  },
  {
   "attachments": {},
   "cell_type": "markdown",
   "metadata": {},
   "source": [
    "## 使用匿名结构体添加字段"
   ]
  },
  {
   "attachments": {},
   "cell_type": "markdown",
   "metadata": {},
   "source": [
    "```\n",
    "core.Success(c, 0, struct {\n",
    "\t*models.Admin\n",
    "\tToken string `json:\"token\"`\n",
    "}{\n",
    "\t&admin,\n",
    "\ttoken,\n",
    "})\n",
    "```"
   ]
  },
  {
   "attachments": {},
   "cell_type": "markdown",
   "metadata": {},
   "source": [
    "## 使用匿名结构体组合多个结构体"
   ]
  },
  {
   "cell_type": "code",
   "execution_count": 17,
   "metadata": {},
   "outputs": [
    {
     "name": "stdout",
     "output_type": "stream",
     "text": [
      "{\"content\":\"ccc\",\"title\":\"iii\",\"url\":\"uuuu\"}"
     ]
    }
   ],
   "source": [
    "%%\n",
    "type Comment struct {\n",
    "\tContent string `json:\"content\"`\n",
    "}\n",
    "\n",
    "type Image struct {\n",
    "\tTitle string `json:\"title\"`\n",
    "\tURL   string `json:\"url\"`\n",
    "}\n",
    "c1 := Comment{Content: \"ccc\"}\n",
    "i1 := Image{\n",
    "\tTitle: \"iii\",\n",
    "\tURL:   \"uuuu\",\n",
    "}\n",
    "//序列化\n",
    "data, _ := json.Marshal(struct {\n",
    "\t*Comment\n",
    "\t*Image\n",
    "}{&c1, &i1})\n",
    "fmt.Printf(\"%s\", data)"
   ]
  },
  {
   "cell_type": "code",
   "execution_count": 19,
   "metadata": {},
   "outputs": [
    {
     "name": "stdout",
     "output_type": "stream",
     "text": [
      "c2:main.Comment{Content:\"ccc\"} i2:main.Image{Title:\"iii\", URL:\"uuuu\"}\n"
     ]
    }
   ],
   "source": [
    "%%\n",
    "type Comment struct {\n",
    "\tContent string `json:\"content\"`\n",
    "}\n",
    "\n",
    "type Image struct {\n",
    "\tTitle string `json:\"title\"`\n",
    "\tURL   string `json:\"url\"`\n",
    "}\n",
    "//反序列化\n",
    "str := `{\"content\":\"ccc\",\"title\":\"iii\",\"url\":\"uuuu\"}`\n",
    "var (\n",
    "\tc2 Comment\n",
    "\ti2 Image\n",
    ")\n",
    "json.Unmarshal([]byte(str), &struct {\n",
    "\t*Comment\n",
    "\t*Image\n",
    "}{&c2, &i2})\n",
    "fmt.Printf(\"c2:%#v i2:%#v\\n\", c2, i2)"
   ]
  },
  {
   "attachments": {},
   "cell_type": "markdown",
   "metadata": {},
   "source": [
    "## 处理不确定层级的json"
   ]
  },
  {
   "cell_type": "code",
   "execution_count": 15,
   "metadata": {},
   "outputs": [
    {
     "name": "stdout",
     "output_type": "stream",
     "text": [
      "map[Address:{\"id\":3, \"content\":\"北京\"} id:\"1\" score:\"22\"]\n",
      "{\"id\":3, \"content\":\"北京\"}"
     ]
    }
   ],
   "source": [
    "%%\n",
    "//1\n",
    "json_str := `{\"id\":\"1\", \"score\":\"22\", \"Address\":{\"id\":3, \"content\":\"北京\"}}`\n",
    "var data map[string]json.RawMessage\n",
    "\n",
    "json.Unmarshal([]byte(json_str), &data)\n",
    "fmt.Printf(\"%s\\n\", data)\n",
    "fmt.Printf(\"%s\", data[\"Address\"])"
   ]
  },
  {
   "cell_type": "code",
   "execution_count": 16,
   "metadata": {},
   "outputs": [
    {
     "name": "stdout",
     "output_type": "stream",
     "text": [
      "main.User{Id:0, Score:0, Address:json.RawMessage{0x7b, 0x22, 0x69, 0x64, 0x22, 0x3a, 0x33, 0x2c, 0x20, 0x22, 0x63, 0x6f, 0x6e, 0x74, 0x65, 0x6e, 0x74, 0x22, 0x3a, 0x22, 0xe5, 0x8c, 0x97, 0xe4, 0xba, 0xac, 0x22, 0x7d}}\n",
      "{\"id\":3, \"content\":\"北京\"}"
     ]
    }
   ],
   "source": [
    "%%\n",
    "//2\n",
    "type User struct {\n",
    "\tId int `json:\"id\"`\n",
    "\tScore   int\n",
    "\tAddress json.RawMessage\n",
    "}\n",
    "json_str := `{\"id\":\"1\", \"score\":\"22\", \"Address\":{\"id\":3, \"content\":\"北京\"}}`\n",
    "var data User\n",
    "\n",
    "json.Unmarshal([]byte(json_str), &data)\n",
    "fmt.Printf(\"%#v\\n\", data)\n",
    "fmt.Printf(\"%s\", data.Address)"
   ]
  }
 ],
 "metadata": {
  "kernelspec": {
   "display_name": "Go (gonb)",
   "language": "go",
   "name": "gonb"
  },
  "language_info": {
   "codemirror_mode": "",
   "file_extension": ".go",
   "mimetype": "",
   "name": "go",
   "nbconvert_exporter": "",
   "pygments_lexer": "",
   "version": "go1.19.2"
  },
  "orig_nbformat": 4
 },
 "nbformat": 4,
 "nbformat_minor": 2
}
