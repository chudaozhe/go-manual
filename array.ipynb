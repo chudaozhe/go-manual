{
 "cells": [
  {
   "attachments": {},
   "cell_type": "markdown",
   "metadata": {},
   "source": [
    "# 数组\n",
    "数组是同一种数据类型元素的集合。在Go语言中，数组从声明时就确定，使用时可以修改数组成员，但是数组大小不可变化。基本语法：\n",
    "```\n",
    "// 定义一个长度为3，元素类型为int 的数组a\n",
    "var a [3]int\n",
    "```"
   ]
  },
  {
   "attachments": {},
   "cell_type": "markdown",
   "metadata": {},
   "source": [
    "## 数组定义\n",
    "```\n",
    "var 数组变量名[元素数量]T\n",
    "```\n",
    "注：数组的长度必须是常量，并且长度是数组类型的一部分。一旦定义，长度不能变。[5]int和[10]int是不同类型。\n",
    "```\n",
    "var a [3]int\n",
    "var b [4]int\n",
    "a = b // 不可以这样做，因为此时的a和b是不同的类型\n",
    "```\n",
    "数组可以通过下标进行访问，下标是从0开始，最后一个元素下标是：len-1，访问越界（下标在合法范围之外），则触发访问越界，会panic。"
   ]
  },
  {
   "attachments": {},
   "cell_type": "markdown",
   "metadata": {},
   "source": [
    "## 数组的初始化\n",
    "\n",
    "数组的初始化方式有很多种\n",
    "\n",
    "### 方式一\n",
    "初始化数组时可以使用初始化列表来设置数组元素的值。"
   ]
  },
  {
   "cell_type": "code",
   "execution_count": 6,
   "metadata": {},
   "outputs": [
    {
     "name": "stdout",
     "output_type": "stream",
     "text": [
      "[0 0 0]\n",
      "[1 2 0]\n",
      "[北京 上海 深圳]\n"
     ]
    }
   ],
   "source": [
    "%%\n",
    "var testArray [3]int                        //数组会初始化为int类型的零值\n",
    "var numArray = [3]int{1, 2}                 //使用指定的初始值完成初始化\n",
    "var cityArray = [3]string{\"北京\", \"上海\", \"深圳\"} //使用指定的初始值完成初始化\n",
    "fmt.Println(testArray)\n",
    "fmt.Println(numArray)\n",
    "fmt.Println(cityArray)"
   ]
  },
  {
   "attachments": {},
   "cell_type": "markdown",
   "metadata": {},
   "source": [
    "### 方式二\n",
    "用`...`代替具体的数组的长度，例如："
   ]
  },
  {
   "cell_type": "code",
   "execution_count": 7,
   "metadata": {},
   "outputs": [
    {
     "name": "stdout",
     "output_type": "stream",
     "text": [
      "type of numArray:[2]int\n"
     ]
    }
   ],
   "source": [
    "%%\n",
    "var numArray = [...]int{1, 2}\n",
    "fmt.Printf(\"type of numArray:%T\\n\", numArray)"
   ]
  },
  {
   "attachments": {},
   "cell_type": "markdown",
   "metadata": {},
   "source": [
    "### 方式三\n",
    "我们还可以使用指定索引值的方式来初始化数组，例如："
   ]
  },
  {
   "cell_type": "code",
   "execution_count": 8,
   "metadata": {},
   "outputs": [
    {
     "name": "stdout",
     "output_type": "stream",
     "text": [
      "[0 1 0 5]\n",
      "type of a:[4]int\n"
     ]
    }
   ],
   "source": [
    "%%\n",
    "a := [...]int{1: 1, 3: 5}\n",
    "fmt.Println(a)\n",
    "fmt.Printf(\"type of a:%T\\n\", a)"
   ]
  },
  {
   "attachments": {},
   "cell_type": "markdown",
   "metadata": {},
   "source": [
    "## 数组遍历\n",
    "遍历数组a有以下两种方式："
   ]
  },
  {
   "attachments": {},
   "cell_type": "markdown",
   "metadata": {},
   "source": [
    "### 方式一：for循环遍历"
   ]
  },
  {
   "cell_type": "code",
   "execution_count": 1,
   "metadata": {},
   "outputs": [
    {
     "name": "stdout",
     "output_type": "stream",
     "text": [
      "北京\n",
      "上海\n",
      "深圳\n"
     ]
    }
   ],
   "source": [
    "%%\n",
    "var a = [...]string{\"北京\", \"上海\", \"深圳\"}\n",
    "// 方法1：for循环遍历\n",
    "for i := 0; i < len(a); i++ {\n",
    "\tfmt.Println(a[i])\n",
    "}"
   ]
  },
  {
   "attachments": {},
   "cell_type": "markdown",
   "metadata": {},
   "source": [
    "### 方式二：for range遍历"
   ]
  },
  {
   "cell_type": "code",
   "execution_count": 2,
   "metadata": {},
   "outputs": [
    {
     "name": "stdout",
     "output_type": "stream",
     "text": [
      "0 北京\n",
      "1 上海\n",
      "2 深圳\n"
     ]
    }
   ],
   "source": [
    "%%\n",
    "var a = [...]string{\"北京\", \"上海\", \"深圳\"}\n",
    "// 方法2：for range遍历\n",
    "for index, value := range a {\n",
    "\tfmt.Println(index, value)\n",
    "}"
   ]
  },
  {
   "attachments": {},
   "cell_type": "markdown",
   "metadata": {},
   "source": [
    "## 多维数组\n",
    "\n",
    "Go语言是支持多维数组的，我们这里以二维数组为例（数组中又嵌套数组）。"
   ]
  },
  {
   "attachments": {},
   "cell_type": "markdown",
   "metadata": {},
   "source": [
    "### 二维数组的定义"
   ]
  },
  {
   "cell_type": "code",
   "execution_count": 4,
   "metadata": {},
   "outputs": [
    {
     "name": "stdout",
     "output_type": "stream",
     "text": [
      "[[北京 上海] [广州 深圳] [成都 重庆]]\n",
      "重庆\n"
     ]
    }
   ],
   "source": [
    "%%\n",
    "a := [3][2]string{\n",
    "\t{\"北京\", \"上海\"},\n",
    "\t{\"广州\", \"深圳\"},\n",
    "\t{\"成都\", \"重庆\"},\n",
    "}\n",
    "fmt.Println(a) // [[北京 上海] [广州 深圳] [成都 重庆]]\n",
    "fmt.Println(a[2][1]) // 支持索引取值:重庆"
   ]
  },
  {
   "attachments": {},
   "cell_type": "markdown",
   "metadata": {},
   "source": [
    "### 二维数组的遍历"
   ]
  },
  {
   "cell_type": "code",
   "execution_count": 6,
   "metadata": {},
   "outputs": [
    {
     "name": "stdout",
     "output_type": "stream",
     "text": [
      "北京\t上海\t\n",
      "广州\t深圳\t\n",
      "成都\t重庆\t\n"
     ]
    }
   ],
   "source": [
    "%%\n",
    "a := [3][2]string{\n",
    "\t{\"北京\", \"上海\"},\n",
    "\t{\"广州\", \"深圳\"},\n",
    "\t{\"成都\", \"重庆\"},\n",
    "}\n",
    "for _, v1 := range a {\n",
    "\tfor _, v2 := range v1 {\n",
    "\t\tfmt.Printf(\"%s\\t\", v2)\n",
    "\t}\n",
    "\tfmt.Println()\n",
    "}"
   ]
  },
  {
   "attachments": {},
   "cell_type": "markdown",
   "metadata": {},
   "source": [
    "注意：多维数组只有第一层可以使用...来让编译器推到数组长度。例如："
   ]
  },
  {
   "cell_type": "code",
   "execution_count": 9,
   "metadata": {},
   "outputs": [
    {
     "name": "stdout",
     "output_type": "stream",
     "text": [
      "北京\t上海\t\n",
      "广州\t深圳\t\n",
      "成都\t重庆\t\n"
     ]
    }
   ],
   "source": [
    "%%\n",
    "a := [...][2]string{\n",
    "\t{\"北京\", \"上海\"},\n",
    "\t{\"广州\", \"深圳\"},\n",
    "\t{\"成都\", \"重庆\"},\n",
    "}\n",
    "for _, v1 := range a {\n",
    "\tfor _, v2 := range v1 {\n",
    "\t\tfmt.Printf(\"%s\\t\", v2)\n",
    "\t}\n",
    "\tfmt.Println()\n",
    "}"
   ]
  },
  {
   "attachments": {},
   "cell_type": "markdown",
   "metadata": {},
   "source": [
    "## 数组是值类型\n",
    "数组是值类型，赋值和传参会复制整个数组。因此改变副本的值，不会改变本身的值。\n",
    "\n",
    "函数外修改切片会影响切片本身"
   ]
  },
  {
   "cell_type": "code",
   "execution_count": 10,
   "metadata": {},
   "outputs": [
    {
     "name": "stdout",
     "output_type": "stream",
     "text": [
      "[10 20 30]\n",
      "[[1 1] [1 1] [1 1]]\n"
     ]
    }
   ],
   "source": [
    "func modifyArray(x [3]int) {\n",
    "\tx[0] = 100\n",
    "}\n",
    "\n",
    "func modifyArray2(x [3][2]int) {\n",
    "\tx[2][0] = 100\n",
    "}\n",
    "func main() {\n",
    "\ta := [3]int{10, 20, 30}\n",
    "\tmodifyArray(a) //在modify中修改的是a的副本x\n",
    "\tfmt.Println(a) //[10 20 30]\n",
    "\tb := [3][2]int{\n",
    "\t\t{1, 1},\n",
    "\t\t{1, 1},\n",
    "\t\t{1, 1},\n",
    "\t}\n",
    "\tmodifyArray2(b) //在modify中修改的是b的副本x\n",
    "\tfmt.Println(b)  //[[1 1] [1 1] [1 1]]\n",
    "}"
   ]
  },
  {
   "attachments": {},
   "cell_type": "markdown",
   "metadata": {},
   "source": [
    "注意：\n",
    "\n",
    "数组支持`==`、`!=`操作符，因为内存总是被初始化的。\n",
    "\n",
    "`[n]*T`表示指针数组，`*[n]T`表示数组指针。"
   ]
  }
 ],
 "metadata": {
  "kernelspec": {
   "display_name": "Go (gonb)",
   "language": "go",
   "name": "gonb"
  },
  "language_info": {
   "codemirror_mode": "",
   "file_extension": ".go",
   "mimetype": "",
   "name": "go",
   "nbconvert_exporter": "",
   "pygments_lexer": "",
   "version": "go1.19.2"
  },
  "orig_nbformat": 4
 },
 "nbformat": 4,
 "nbformat_minor": 2
}
