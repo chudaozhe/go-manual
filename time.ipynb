{
 "cells": [
  {
   "attachments": {},
   "cell_type": "markdown",
   "metadata": {},
   "source": [
    "# 时间相关\n",
    "`time.Time`类型表示时间。我们可以通过`time.Now()`函数获取当前的时间对象，然后获取时间对象的年月日时分秒等信息。"
   ]
  },
  {
   "cell_type": "code",
   "execution_count": 11,
   "metadata": {},
   "outputs": [
    {
     "name": "stdout",
     "output_type": "stream",
     "text": [
      "current time:2023-05-19 01:41:16.16179 +0800 CST m=+0.000191974\n",
      "2023-05-19 01:41:16\n"
     ]
    }
   ],
   "source": [
    "%%\n",
    "now := time.Now() //获取当前时间\n",
    "fmt.Printf(\"current time:%v\\n\", now)\n",
    "\n",
    "year := now.Year()     //年\n",
    "month := now.Month()   //月\n",
    "day := now.Day()       //日\n",
    "hour := now.Hour()     //小时\n",
    "minute := now.Minute() //分钟\n",
    "second := now.Second() //秒\n",
    "fmt.Printf(\"%d-%02d-%02d %02d:%02d:%02d\\n\", year, month, day, hour, minute, second)"
   ]
  },
  {
   "attachments": {},
   "cell_type": "markdown",
   "metadata": {},
   "source": [
    "## 时间戳"
   ]
  },
  {
   "cell_type": "code",
   "execution_count": 12,
   "metadata": {},
   "outputs": [
    {
     "name": "stdout",
     "output_type": "stream",
     "text": [
      "current time:2023-05-19 01:41:16.599043 +0800 CST m=+0.000171543\n",
      "current timestamp1:1684431676\n",
      "current timestamp2:1684431676599043000\n"
     ]
    }
   ],
   "source": [
    "%%\n",
    "now := time.Now() //获取当前时间\n",
    "fmt.Printf(\"current time:%v\\n\", now)\n",
    "timestamp1 := now.Unix()     //10位时间戳\n",
    "timestamp2 := now.UnixNano() //纳秒\n",
    "fmt.Printf(\"current timestamp1:%v\\n\", timestamp1)\n",
    "fmt.Printf(\"current timestamp2:%v\\n\", timestamp2)"
   ]
  },
  {
   "attachments": {},
   "cell_type": "markdown",
   "metadata": {},
   "source": [
    "## 日期的字符串 转时间戳"
   ]
  },
  {
   "cell_type": "code",
   "execution_count": 13,
   "metadata": {},
   "outputs": [
    {
     "name": "stdout",
     "output_type": "stream",
     "text": [
      "1564899320\n"
     ]
    }
   ],
   "source": [
    "%%\n",
    "// 加载时区\n",
    "loc, _ := time.LoadLocation(\"Asia/Shanghai\") //或者 time.Local\n",
    "// 按照指定时区和指定格式解析字符串时间\n",
    "timeObj2, _ := time.ParseInLocation(\"2006/01/02 15:04:05\", \"2019/08/04 14:15:20\", loc)\n",
    "fmt.Println(timeObj2.Unix())"
   ]
  },
  {
   "attachments": {},
   "cell_type": "markdown",
   "metadata": {},
   "source": [
    "## 时间戳格式化"
   ]
  },
  {
   "cell_type": "code",
   "execution_count": 14,
   "metadata": {},
   "outputs": [
    {
     "name": "stdout",
     "output_type": "stream",
     "text": [
      "current time:2023-05-19 01:41:17.573429 +0800 CST m=+0.000170156\n",
      "2023-05-19 01:41:17 +0800 CST\n",
      "2023-05-19 01:41:17\n",
      "2023-05-19 01:41:17\n",
      "2023-05-19 01:41:17\n",
      "2023-05-19 01:41:17 AM\n",
      "2023/05/19 01:41\n",
      "01:41 2023/05/19\n",
      "2023/05/19\n"
     ]
    }
   ],
   "source": [
    "%%\n",
    "now := time.Now() //获取当前时间\n",
    "fmt.Printf(\"current time:%v\\n\", now)\n",
    "timestamp1 := now.Unix()     //10位时间戳\n",
    "timeObj := time.Unix(timestamp1, 0) //将时间戳转为时间对象\n",
    "fmt.Println(timeObj)\n",
    "fmt.Printf(\"%d-%02d-%02d %02d:%02d:%02d\\n\", timeObj.Year(), timeObj.Month(), timeObj.Day(), timeObj.Hour(), timeObj.Minute(), timeObj.Second())\n",
    "fmt.Println(timeObj.Format(\"2006-01-02 15:04:05\"))\n",
    "\n",
    "fmt.Println(now.Format(\"2006-01-02 15:04:05\"))    //24小时制\n",
    "fmt.Println(now.Format(\"2006-01-02 03:04:05 PM\")) //12小时制\n",
    "fmt.Println(now.Format(\"2006/01/02 15:04\"))\n",
    "fmt.Println(now.Format(\"15:04 2006/01/02\"))\n",
    "fmt.Println(now.Format(\"2006/01/02\"))"
   ]
  },
  {
   "attachments": {},
   "cell_type": "markdown",
   "metadata": {},
   "source": [
    "## 定时器"
   ]
  },
  {
   "cell_type": "code",
   "execution_count": 3,
   "metadata": {},
   "outputs": [
    {
     "name": "stdout",
     "output_type": "stream",
     "text": [
      "59\n",
      "0\n",
      "1\n"
     ]
    }
   ],
   "source": [
    "%%\n",
    "ticker := time.Tick(time.Second)\n",
    "var i=0\n",
    "for time1 := range ticker { //每秒执行一次\n",
    "\tif i>2 {\n",
    "\t\tbreak\n",
    "\t}\n",
    "\tfmt.Println(time1.Second())\n",
    "\ti++\n",
    "}"
   ]
  },
  {
   "attachments": {},
   "cell_type": "markdown",
   "metadata": {},
   "source": [
    "## 时间操作"
   ]
  },
  {
   "cell_type": "code",
   "execution_count": 1,
   "metadata": {},
   "outputs": [
    {
     "name": "stdout",
     "output_type": "stream",
     "text": [
      "2023-05-19 02:43:23.171275 +0800 CST m=+3600.000288472\n",
      "1h0m0s\n",
      "true\n",
      "true\n",
      "false\n",
      "false\n",
      "true\n"
     ]
    }
   ],
   "source": [
    "%%\n",
    "now := time.Now() //获取当前时间\n",
    "later := now.Add(time.Hour) //1小时后\n",
    "//later := now.Add(-time.Hour) //1小时前\n",
    "fmt.Println(later)\n",
    "\n",
    "//返回两个时间相隔多少\n",
    "diff := now.Sub(now.Add(-time.Hour))\n",
    "fmt.Println(diff) //1h0m0s\n",
    "\n",
    "r := now.Equal(now)\n",
    "fmt.Println(r) //true\n",
    "\n",
    "//now在u之前返回true\n",
    "r = now.Before(now.Add(time.Second))\n",
    "r2 := now.Before(now.Add(-time.Second))\n",
    "fmt.Println(r)  //true\n",
    "fmt.Println(r2) //false\n",
    "\n",
    "//now在u之后返回true\n",
    "r = now.After(now.Add(time.Second))\n",
    "r2 = now.After(now.Add(-time.Second))\n",
    "fmt.Println(r)  //false\n",
    "fmt.Println(r2) //true"
   ]
  }
 ],
 "metadata": {
  "kernelspec": {
   "display_name": "Go (gonb)",
   "language": "go",
   "name": "gonb"
  },
  "language_info": {
   "codemirror_mode": "",
   "file_extension": ".go",
   "mimetype": "",
   "name": "go",
   "nbconvert_exporter": "",
   "pygments_lexer": "",
   "version": "go1.19.2"
  },
  "orig_nbformat": 4
 },
 "nbformat": 4,
 "nbformat_minor": 2
}
