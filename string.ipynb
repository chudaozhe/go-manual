{
 "cells": [
  {
   "attachments": {},
   "cell_type": "markdown",
   "metadata": {},
   "source": [
    "# 字符串\n",
    "Go语言里的字符串的内部实现使用UTF-8编码。字符串的值为双引号(\")中的内容\n",
    "\n",
    "拼接字符串的方法：`+号拼接`、`fmt.Sprint`、`strings.Join`、`bytes.Buffer`、`strings.Builder`。其中`strings.Join`是最快的，`+号拼接`是最慢的"
   ]
  },
  {
   "attachments": {},
   "cell_type": "markdown",
   "metadata": {},
   "source": [
    "## 多行字符串\n",
    "Go语言中要定义一个多行字符串时，就必须使用反引号字符："
   ]
  },
  {
   "cell_type": "code",
   "execution_count": 12,
   "metadata": {},
   "outputs": [
    {
     "name": "stdout",
     "output_type": "stream",
     "text": [
      "第一行\n",
      "\t第二行\n",
      "\t第三行\n"
     ]
    }
   ],
   "source": [
    "%%\n",
    "asd := `第一行\n",
    "第二行\n",
    "第三行`\n",
    "fmt.Println(asd)"
   ]
  },
  {
   "attachments": {},
   "cell_type": "markdown",
   "metadata": {},
   "source": [
    "所有的转义字符均无效，文本将会原样输出"
   ]
  },
  {
   "attachments": {},
   "cell_type": "markdown",
   "metadata": {},
   "source": [
    "## byte和rune类型\n",
    "组成每个字符串的元素叫做“字符“，可以通过遍历或者单个获取字符串元素获得字符。字符用单引号（''）包裹起来，像：\n",
    "```\n",
    "var a = '汉'\n",
    "var b = 'x'\n",
    "```"
   ]
  },
  {
   "attachments": {},
   "cell_type": "markdown",
   "metadata": {},
   "source": [
    "## 修改字符串\n",
    "要修改字符串，需要先将其转换成[]rune或[]byte，完成后再转换为string。无论哪种转换，都会重新分配内存，并复制字节数组。"
   ]
  },
  {
   "attachments": {},
   "cell_type": "markdown",
   "metadata": {},
   "source": [
    "## 字符串的常用操作"
   ]
  },
  {
   "attachments": {},
   "cell_type": "markdown",
   "metadata": {},
   "source": [
    "### 字符串比较\n",
    "```\n",
    "    // Compare 函数，用于比较两个字符串的大小，如果两个字符串相等，返回为 0。如果 a 小于 b ，返回 -1 ，反之返回 1 。不推荐使用这个函数，直接使用 == != > < >= <= 等一系列运算符更加直观。\n",
    "   func Compare(a, b string) int \n",
    "   //   EqualFold 函数，计算 s 与 t 忽略字母大小写后是否相等。\n",
    "   func EqualFold(s, t string) bool\n",
    "\n",
    "```"
   ]
  },
  {
   "attachments": {},
   "cell_type": "markdown",
   "metadata": {},
   "source": [
    "### 是否存在某个字符或子串\n",
    "有三个函数做这件事：\n",
    "```\n",
    "// 子串 substr 在 s 中，返回 true\n",
    "func Contains(s, substr string) bool\n",
    "// chars 中任何一个 Unicode 代码点在 s 中，返回 true\n",
    "func ContainsAny(s, chars string) bool\n",
    "// Unicode 代码点 r 在 s 中，返回 true\n",
    "func ContainsRune(s string, r rune) bool\n",
    "```"
   ]
  },
  {
   "attachments": {},
   "cell_type": "markdown",
   "metadata": {},
   "source": [
    "### 子串出现次数 ( 字符串匹配 )\n",
    "在 Count 的实现中，处理了几种特殊情况，属于字符匹配预处理的一部分。这里要特别说明一下的是当 sep 为空时，Count 的返回值是：`utf8.RuneCountInString(s) + 1`"
   ]
  },
  {
   "cell_type": "code",
   "execution_count": 13,
   "metadata": {},
   "outputs": [
    {
     "name": "stdout",
     "output_type": "stream",
     "text": [
      "3\n",
      "12\n",
      "5\n"
     ]
    }
   ],
   "source": [
    "%%\n",
    "fmt.Println(strings.Count(\"cheese\", \"e\")) //3\n",
    "fmt.Println(len(\"谷歌中国\")) //12\n",
    "fmt.Println(strings.Count(\"谷歌中国\", \"\")) //5"
   ]
  },
  {
   "attachments": {},
   "cell_type": "markdown",
   "metadata": {},
   "source": [
    "### 字符串分割为[]string\n",
    "\n",
    "该包提供了六个三组分割函数：Fields 和 FieldsFunc、Split 和 SplitAfter、SplitN 和 SplitAfterN。"
   ]
  },
  {
   "cell_type": "code",
   "execution_count": 14,
   "metadata": {},
   "outputs": [
    {
     "name": "stdout",
     "output_type": "stream",
     "text": [
      "Fields are: [\"foo\" \"bar\" \"baz\"][\"C:\" \"Windows\" \"System32\" \"FileName\"]"
     ]
    }
   ],
   "source": [
    "%%\n",
    "s:=strings.Fields(\"  foo bar  baz   \")\n",
    "fmt.Printf(\"Fields are: %q\", s) //Fields are: [\"foo\" \"bar\" \"baz\"]\n",
    "\n",
    "s2 := \"C:\\\\Windows\\\\System32\\\\FileName\"\n",
    "s3 := strings.FieldsFunc(s2, func(r rune) bool {\n",
    "\treturn r == '\\\\' || r == '/'\n",
    "})\n",
    "fmt.Printf(\"%q\", s3) // [\"C:\" \"Windows\" \"System32\" \"FileName\"]"
   ]
  },
  {
   "attachments": {},
   "cell_type": "markdown",
   "metadata": {},
   "source": [
    "### Split 和 SplitAfter、 SplitN 和 SplitAfterN"
   ]
  },
  {
   "cell_type": "code",
   "execution_count": 15,
   "metadata": {},
   "outputs": [
    {
     "data": {
      "text/html": [
       "\n",
       "<style>\n",
       ".gonb-error-location {\n",
       "\tbackground: var(--jp-error-color2);  \n",
       "\tborder-radius: 3px;\n",
       "\tborder-style: dotted;\n",
       "\tborder-width: 1px;\n",
       "\tborder-color: var(--jp-border-color2);\n",
       "}\n",
       ".gonb-error-location:hover {\n",
       "\tborder-width: 2px;\n",
       "\tborder-style: solid;\n",
       "\tborder-color: var(--jp-border-color2);\n",
       "}\n",
       ".gonb-error-context {\n",
       "\tdisplay: none;\n",
       "}\n",
       ".gonb-error-location:hover + .gonb-error-context {\n",
       "\tbackground: var(--jp-dialog-background);  \n",
       "\tborder-radius: 3px;\n",
       "\tborder-style: solid;\n",
       "\tborder-width: 1px;\n",
       "\tborder-color: var(--jp-border-color2);\n",
       "\tdisplay: block;\n",
       "\twhite-space: pre;\n",
       "\tfont-family: monospace;\n",
       "}\n",
       ".gonb-error-line {\n",
       "\tborder-radius: 3px;\n",
       "\tborder-style: dotted;\n",
       "\tborder-width: 1px;\t\n",
       "\tborder-color: var(--jp-border-color2);\n",
       "\tbackground-color: var(--jp-rendermime-error-background);\n",
       "\tfont-weight: bold;\n",
       "}\n",
       ".gonb-cell-line-info {\n",
       "\tbackground: var(--jp-layout-color2);\n",
       "\tcolor: #999;\n",
       "\tmargin: 0.1em;\n",
       "\tborder: 1px solid var(--jp-border-color1);\n",
       "\tpadding-left: 0.2em;\n",
       "\tpadding-right: 0.2em;\n",
       "}\n",
       "</style>\n",
       "<div class=\"lm-Widget p-Widget lm-Panel p-Panel jp-OutputArea-child\">\n",
       "<div class=\"lm-Widget p-Widget jp-RenderedText jp-mod-trusted jp-OutputArea-output\" data-mime-type=\"application/vnd.jupyter.stderr\" style=\"font-family: monospace;\">\n",
       "\n",
       "\n",
       "<span style=\"white-space: pre;\"> # gonb_0aac953a</span>\n",
       "\n",
       "<br/>\n",
       "\n",
       "<span class=\"gonb-cell-line-info\">Cell[15]: Line 2</span>\n",
       "<span class=\"gonb-error-location\">./main.go:11:2: </span> s declared but not used\n",
       "<div class=\"gonb-error-context\">\n",
       "\n",
       "func main() {\n",
       "\tflag.Parse()\n",
       "<div class=\"gonb-error-line\">\ts := strings.Split(&#34;foo,bar,baz&#34;, &#34;,&#34;)           //[&#34;foo&#34; &#34;bar&#34; &#34;baz&#34;]\n",
       "</div>\ts2 := strings.SplitAfter(&#34;foo,bar,baz&#34;, &#34;,&#34;)     //[&#34;foo,&#34; &#34;bar,&#34; &#34;baz&#34;]\n",
       "\ts3 := strings.SplitN(&#34;foo,bar,baz&#34;, &#34;,&#34;, 2)      //[&#34;foo&#34; &#34;bar,baz&#34;]\n",
       "\n",
       "</div>\n",
       "\n",
       "<br/>\n",
       "\n",
       "<span class=\"gonb-cell-line-info\">Cell[15]: Line 3</span>\n",
       "<span class=\"gonb-error-location\">./main.go:12:2: </span> s2 declared but not used\n",
       "<div class=\"gonb-error-context\">\n",
       "func main() {\n",
       "\tflag.Parse()\n",
       "\ts := strings.Split(&#34;foo,bar,baz&#34;, &#34;,&#34;)           //[&#34;foo&#34; &#34;bar&#34; &#34;baz&#34;]\n",
       "<div class=\"gonb-error-line\">\ts2 := strings.SplitAfter(&#34;foo,bar,baz&#34;, &#34;,&#34;)     //[&#34;foo,&#34; &#34;bar,&#34; &#34;baz&#34;]\n",
       "</div>\ts3 := strings.SplitN(&#34;foo,bar,baz&#34;, &#34;,&#34;, 2)      //[&#34;foo&#34; &#34;bar,baz&#34;]\n",
       "\ts4 := strings.SplitAfterN(&#34;foo,bar,baz&#34;, &#34;,&#34;, 2) //[&#34;foo,&#34; &#34;bar,baz&#34;]\n",
       "\n",
       "</div>\n",
       "\n",
       "<br/>\n",
       "\n",
       "<span class=\"gonb-cell-line-info\">Cell[15]: Line 4</span>\n",
       "<span class=\"gonb-error-location\">./main.go:13:2: </span> s3 declared but not used\n",
       "<div class=\"gonb-error-context\">\n",
       "\tflag.Parse()\n",
       "\ts := strings.Split(&#34;foo,bar,baz&#34;, &#34;,&#34;)           //[&#34;foo&#34; &#34;bar&#34; &#34;baz&#34;]\n",
       "\ts2 := strings.SplitAfter(&#34;foo,bar,baz&#34;, &#34;,&#34;)     //[&#34;foo,&#34; &#34;bar,&#34; &#34;baz&#34;]\n",
       "<div class=\"gonb-error-line\">\ts3 := strings.SplitN(&#34;foo,bar,baz&#34;, &#34;,&#34;, 2)      //[&#34;foo&#34; &#34;bar,baz&#34;]\n",
       "</div>\ts4 := strings.SplitAfterN(&#34;foo,bar,baz&#34;, &#34;,&#34;, 2) //[&#34;foo,&#34; &#34;bar,baz&#34;]\n",
       "\n",
       "\n",
       "</div>\n",
       "\n",
       "<br/>\n",
       "\n",
       "<span class=\"gonb-cell-line-info\">Cell[15]: Line 5</span>\n",
       "<span class=\"gonb-error-location\">./main.go:14:2: </span> s4 declared but not used\n",
       "<div class=\"gonb-error-context\">\n",
       "\ts := strings.Split(&#34;foo,bar,baz&#34;, &#34;,&#34;)           //[&#34;foo&#34; &#34;bar&#34; &#34;baz&#34;]\n",
       "\ts2 := strings.SplitAfter(&#34;foo,bar,baz&#34;, &#34;,&#34;)     //[&#34;foo,&#34; &#34;bar,&#34; &#34;baz&#34;]\n",
       "\ts3 := strings.SplitN(&#34;foo,bar,baz&#34;, &#34;,&#34;, 2)      //[&#34;foo&#34; &#34;bar,baz&#34;]\n",
       "<div class=\"gonb-error-line\">\ts4 := strings.SplitAfterN(&#34;foo,bar,baz&#34;, &#34;,&#34;, 2) //[&#34;foo,&#34; &#34;bar,baz&#34;]\n",
       "</div>\n",
       "\n",
       "\n",
       "</div>\n",
       "\n",
       "<br/>\n",
       "\n",
       "\n",
       "<span style=\"white-space: pre;\"> </span>\n",
       "\n",
       "<br/>\n",
       "\n",
       "</div>\n"
      ]
     },
     "metadata": {},
     "output_type": "display_data"
    },
    {
     "ename": "ERROR",
     "evalue": "failed to run \"/usr/local/opt/go/libexec/bin/go build -o /var/folders/0r/9vy7796d43v3tmp2fwwfqgpw0000gn/T/gonb_0aac953a/gonb_0aac953a\": exit status 2",
     "output_type": "error",
     "traceback": [
      "failed to run \"/usr/local/opt/go/libexec/bin/go build -o /var/folders/0r/9vy7796d43v3tmp2fwwfqgpw0000gn/T/gonb_0aac953a/gonb_0aac953a\": exit status 2"
     ]
    }
   ],
   "source": [
    "%%\n",
    "s := strings.Split(\"foo,bar,baz\", \",\")           //[\"foo\" \"bar\" \"baz\"]\n",
    "s2 := strings.SplitAfter(\"foo,bar,baz\", \",\")     //[\"foo,\" \"bar,\" \"baz\"]\n",
    "s3 := strings.SplitN(\"foo,bar,baz\", \",\", 2)      //[\"foo\" \"bar,baz\"]\n",
    "s4 := strings.SplitAfterN(\"foo,bar,baz\", \",\", 2) //[\"foo,\" \"bar,baz\"]\n"
   ]
  },
  {
   "attachments": {},
   "cell_type": "markdown",
   "metadata": {},
   "source": [
    "### 字符串是否有某个前缀或后缀"
   ]
  },
  {
   "cell_type": "code",
   "execution_count": null,
   "metadata": {},
   "outputs": [],
   "source": [
    "%%\n",
    "s := strings.HasPrefix(\"Gopher\", \"\")   //true\n",
    "s2 := strings.HasSuffix(\"Amigo\", \"go\") //true"
   ]
  },
  {
   "attachments": {},
   "cell_type": "markdown",
   "metadata": {},
   "source": [
    "### 字符或子串在字符串中出现的位置"
   ]
  },
  {
   "cell_type": "code",
   "execution_count": null,
   "metadata": {},
   "outputs": [],
   "source": [
    "%%\n",
    "// 在 s 中查找 sep 的第一次出现，返回第一次出现的索引\n",
    "s := strings.Index(\"abcd\", \"b\") //1\n",
    "// 在 s 中查找字节 c 的第一次出现，返回第一次出现的索引\n",
    "s1 := strings.IndexByte(\"abcd\", 'b') //1\n",
    "// chars 中任何一个 Unicode 代码点在 s 中首次出现的位置\n",
    "s2 := strings.IndexAny(\"abcd\", \"cd\") //2\n",
    "// 查找字符 c 在 s 中第一次出现的位置，其中 c 满足 f(c) 返回 true\n",
    "s3 := strings.IndexFunc(\"abcd\", func(r rune) bool {\n",
    "\treturn unicode.Is(unicode.Han, r) // 汉字\n",
    "}) //-1\n",
    "// Unicode 代码点 r 在 s 中第一次出现的位置\n",
    "s4 := strings.IndexRune(\"abcd\", 'b') //1"
   ]
  },
  {
   "attachments": {},
   "cell_type": "markdown",
   "metadata": {},
   "source": [
    "```\n",
    "// 有三个对应的查找最后一次出现的位置\n",
    "func LastIndex(s, sep string) int\n",
    "func LastIndexByte(s string, c byte) int\n",
    "func LastIndexAny(s, chars string) int\n",
    "func LastIndexFunc(s string, f func(rune) bool) int\n",
    "```"
   ]
  },
  {
   "attachments": {},
   "cell_type": "markdown",
   "metadata": {},
   "source": [
    "### 字符串 JOIN 操作"
   ]
  },
  {
   "cell_type": "code",
   "execution_count": null,
   "metadata": {},
   "outputs": [
    {
     "name": "stderr",
     "output_type": "stream",
     "text": [
      "Monday,Tuesday,Wednesday\n"
     ]
    }
   ],
   "source": [
    "%%\n",
    "strs := []string{\"Monday\", \"Tuesday\", \"Wednesday\"}\n",
    "str1 := strings.Join(strs, \",\")\n",
    "println(str1)"
   ]
  },
  {
   "attachments": {},
   "cell_type": "markdown",
   "metadata": {},
   "source": [
    "### 字符串重复几次"
   ]
  },
  {
   "cell_type": "code",
   "execution_count": null,
   "metadata": {},
   "outputs": [
    {
     "data": {
      "text/html": [
       "\n",
       "<style>\n",
       ".gonb-error-location {\n",
       "\tbackground: var(--jp-error-color2);  \n",
       "\tborder-radius: 3px;\n",
       "\tborder-style: dotted;\n",
       "\tborder-width: 1px;\n",
       "\tborder-color: var(--jp-border-color2);\n",
       "}\n",
       ".gonb-error-location:hover {\n",
       "\tborder-width: 2px;\n",
       "\tborder-style: solid;\n",
       "\tborder-color: var(--jp-border-color2);\n",
       "}\n",
       ".gonb-error-context {\n",
       "\tdisplay: none;\n",
       "}\n",
       ".gonb-error-location:hover + .gonb-error-context {\n",
       "\tbackground: var(--jp-dialog-background);  \n",
       "\tborder-radius: 3px;\n",
       "\tborder-style: solid;\n",
       "\tborder-width: 1px;\n",
       "\tborder-color: var(--jp-border-color2);\n",
       "\tdisplay: block;\n",
       "\twhite-space: pre;\n",
       "\tfont-family: monospace;\n",
       "}\n",
       ".gonb-error-line {\n",
       "\tborder-radius: 3px;\n",
       "\tborder-style: dotted;\n",
       "\tborder-width: 1px;\t\n",
       "\tborder-color: var(--jp-border-color2);\n",
       "\tbackground-color: var(--jp-rendermime-error-background);\n",
       "\tfont-weight: bold;\n",
       "}\n",
       ".gonb-cell-line-info {\n",
       "\tbackground: var(--jp-layout-color2);\n",
       "\tcolor: #999;\n",
       "\tmargin: 0.1em;\n",
       "\tborder: 1px solid var(--jp-border-color1);\n",
       "\tpadding-left: 0.2em;\n",
       "\tpadding-right: 0.2em;\n",
       "}\n",
       "</style>\n",
       "<div class=\"lm-Widget p-Widget lm-Panel p-Panel jp-OutputArea-child\">\n",
       "<div class=\"lm-Widget p-Widget jp-RenderedText jp-mod-trusted jp-OutputArea-output\" data-mime-type=\"application/vnd.jupyter.stderr\" style=\"font-family: monospace;\">\n",
       "\n",
       "<span class=\"gonb-cell-line-info\">Cell[7]: Line 1</span>\n",
       "<span class=\"gonb-error-location\">/var/folders/0r/9vy7796d43v3tmp2fwwfqgpw0000gn/T/gonb_0aac953a/main.go:3:1: </span> expected declaration, found s\n",
       "<div class=\"gonb-error-context\">\n",
       "package main\n",
       "\n",
       "<div class=\"gonb-error-line\">s := strings.Repeat(&#34;na&#34;, 2) //重复两次, nana\n",
       "</div>println(s)\n",
       "\n",
       "\n",
       "</div>\n",
       "\n",
       "<br/>\n",
       "\n",
       "</div>\n"
      ]
     },
     "metadata": {},
     "output_type": "display_data"
    },
    {
     "ename": "ERROR",
     "evalue": "in goexec.ExecuteCell(): parsing go files in TempDir \"/var/folders/0r/9vy7796d43v3tmp2fwwfqgpw0000gn/T/gonb_0aac953a\": /var/folders/0r/9vy7796d43v3tmp2fwwfqgpw0000gn/T/gonb_0aac953a/main.go:3:1: expected declaration, found s",
     "output_type": "error",
     "traceback": [
      "in goexec.ExecuteCell(): parsing go files in TempDir \"/var/folders/0r/9vy7796d43v3tmp2fwwfqgpw0000gn/T/gonb_0aac953a\": /var/folders/0r/9vy7796d43v3tmp2fwwfqgpw0000gn/T/gonb_0aac953a/main.go:3:1: expected declaration, found s"
     ]
    }
   ],
   "source": [
    "%%\n",
    "s := strings.Repeat(\"na\", 2) //重复两次, nana\n",
    "println(s)"
   ]
  },
  {
   "attachments": {},
   "cell_type": "markdown",
   "metadata": {},
   "source": [
    "### 字符替换\n",
    "```\n",
    "func Map(mapping func(rune) rune, s string) string\n",
    "```"
   ]
  },
  {
   "attachments": {},
   "cell_type": "markdown",
   "metadata": {},
   "source": [
    "### 字符串子串替换"
   ]
  },
  {
   "cell_type": "code",
   "execution_count": null,
   "metadata": {},
   "outputs": [
    {
     "name": "stdout",
     "output_type": "stream",
     "text": [
      "Abc\n",
      "Abc\n"
     ]
    }
   ],
   "source": [
    "%%\n",
    "// 用 new 替换 s 中的 old，一共替换 n 个。\n",
    "// 如果 n < 0，则不限制替换次数，即全部替换\n",
    "// 等于0不替换\n",
    "s := strings.Replace(\"abc\", \"a\", \"A\", -1)\n",
    "// 该函数内部直接调用了函数 Replace(s, old, new , -1)\n",
    "s2 := strings.ReplaceAll(\"abc\", \"a\", \"A\")\n",
    "fmt.Println(s)\n",
    "fmt.Println(s2)"
   ]
  },
  {
   "attachments": {},
   "cell_type": "markdown",
   "metadata": {},
   "source": [
    "### 大小写转换"
   ]
  },
  {
   "cell_type": "code",
   "execution_count": null,
   "metadata": {},
   "outputs": [
    {
     "name": "stdout",
     "output_type": "stream",
     "text": [
      "hello world\n",
      "ā á ǎ à\n",
      "HELLO\n",
      "Ā Á Ǎ À\n"
     ]
    }
   ],
   "source": [
    "%%\n",
    "s := strings.ToLower(\"HELLO WORLD\")\n",
    "s2 := strings.ToLowerSpecial(unicode.TurkishCase, \"Ā Á Ǎ À\")\n",
    "s3 := strings.ToUpper(\"hello\")\n",
    "s4 := strings.ToUpperSpecial(unicode.TurkishCase, \"ā á ǎ à\")\n",
    "fmt.Println(s)\n",
    "fmt.Println(s2)\n",
    "fmt.Println(s3)\n",
    "fmt.Println(s4)"
   ]
  },
  {
   "attachments": {},
   "cell_type": "markdown",
   "metadata": {},
   "source": [
    "### 标题处理\n",
    "```\n",
    "fmt.Println(strings.Title(\"hElLo wOrLd\")) // 首字母大写，HElLo WOrLd\n",
    "fmt.Println(strings.ToTitle(\"hElLo wOrLd\")) // 全部大写，HELLO WORLD\n",
    "fmt.Println(strings.ToTitleSpecial(unicode.TurkishCase, \"hElLo wOrLd\")) //全部大写，包括一些特殊字符\n",
    "```"
   ]
  },
  {
   "attachments": {},
   "cell_type": "markdown",
   "metadata": {},
   "source": [
    "### 修剪"
   ]
  },
  {
   "cell_type": "code",
   "execution_count": null,
   "metadata": {},
   "outputs": [
    {
     "data": {
      "text/html": [
       "\n",
       "<style>\n",
       ".gonb-error-location {\n",
       "\tbackground: var(--jp-error-color2);  \n",
       "\tborder-radius: 3px;\n",
       "\tborder-style: dotted;\n",
       "\tborder-width: 1px;\n",
       "\tborder-color: var(--jp-border-color2);\n",
       "}\n",
       ".gonb-error-location:hover {\n",
       "\tborder-width: 2px;\n",
       "\tborder-style: solid;\n",
       "\tborder-color: var(--jp-border-color2);\n",
       "}\n",
       ".gonb-error-context {\n",
       "\tdisplay: none;\n",
       "}\n",
       ".gonb-error-location:hover + .gonb-error-context {\n",
       "\tbackground: var(--jp-dialog-background);  \n",
       "\tborder-radius: 3px;\n",
       "\tborder-style: solid;\n",
       "\tborder-width: 1px;\n",
       "\tborder-color: var(--jp-border-color2);\n",
       "\tdisplay: block;\n",
       "\twhite-space: pre;\n",
       "\tfont-family: monospace;\n",
       "}\n",
       ".gonb-error-line {\n",
       "\tborder-radius: 3px;\n",
       "\tborder-style: dotted;\n",
       "\tborder-width: 1px;\t\n",
       "\tborder-color: var(--jp-border-color2);\n",
       "\tbackground-color: var(--jp-rendermime-error-background);\n",
       "\tfont-weight: bold;\n",
       "}\n",
       ".gonb-cell-line-info {\n",
       "\tbackground: var(--jp-layout-color2);\n",
       "\tcolor: #999;\n",
       "\tmargin: 0.1em;\n",
       "\tborder: 1px solid var(--jp-border-color1);\n",
       "\tpadding-left: 0.2em;\n",
       "\tpadding-right: 0.2em;\n",
       "}\n",
       "</style>\n",
       "<div class=\"lm-Widget p-Widget lm-Panel p-Panel jp-OutputArea-child\">\n",
       "<div class=\"lm-Widget p-Widget jp-RenderedText jp-mod-trusted jp-OutputArea-output\" data-mime-type=\"application/vnd.jupyter.stderr\" style=\"font-family: monospace;\">\n",
       "\n",
       "\n",
       "<span style=\"white-space: pre;\"> # gonb_0aac953a</span>\n",
       "\n",
       "<br/>\n",
       "\n",
       "<span class=\"gonb-cell-line-info\">Cell[10]: Line 3</span>\n",
       "<span class=\"gonb-error-location\">./main.go:12:2: </span> s declared but not used\n",
       "<div class=\"gonb-error-context\">\n",
       "func main() {\n",
       "\tflag.Parse()\n",
       "\t// 将 s 左侧和右侧中匹配 cutset 中的任一字符的字符去掉\n",
       "<div class=\"gonb-error-line\">\ts := strings.Trim(&#34;% aaba #&#34;, &#34;#%&#34;) // aaba\n",
       "</div>\t// 将 s 左侧的匹配 cutset 中的任一字符的字符去掉\n",
       "\ts2 := strings.TrimLeft(&#34;% aaba &#34;, &#34;%&#34;) // aaba\n",
       "\n",
       "</div>\n",
       "\n",
       "<br/>\n",
       "\n",
       "<span class=\"gonb-cell-line-info\">Cell[10]: Line 5</span>\n",
       "<span class=\"gonb-error-location\">./main.go:14:2: </span> s2 declared but not used\n",
       "<div class=\"gonb-error-context\">\n",
       "\t// 将 s 左侧和右侧中匹配 cutset 中的任一字符的字符去掉\n",
       "\ts := strings.Trim(&#34;% aaba #&#34;, &#34;#%&#34;) // aaba\n",
       "\t// 将 s 左侧的匹配 cutset 中的任一字符的字符去掉\n",
       "<div class=\"gonb-error-line\">\ts2 := strings.TrimLeft(&#34;% aaba &#34;, &#34;%&#34;) // aaba\n",
       "</div>\t// 将 s 右侧的匹配 cutset 中的任一字符的字符去掉\n",
       "\ts3 := strings.TrimRight(&#34; aaba #&#34;, &#34;#&#34;) // aaba\n",
       "\n",
       "</div>\n",
       "\n",
       "<br/>\n",
       "\n",
       "<span class=\"gonb-cell-line-info\">Cell[10]: Line 7</span>\n",
       "<span class=\"gonb-error-location\">./main.go:16:2: </span> s3 declared but not used\n",
       "<div class=\"gonb-error-context\">\n",
       "\t// 将 s 左侧的匹配 cutset 中的任一字符的字符去掉\n",
       "\ts2 := strings.TrimLeft(&#34;% aaba &#34;, &#34;%&#34;) // aaba\n",
       "\t// 将 s 右侧的匹配 cutset 中的任一字符的字符去掉\n",
       "<div class=\"gonb-error-line\">\ts3 := strings.TrimRight(&#34; aaba #&#34;, &#34;#&#34;) // aaba\n",
       "</div>\t// 如果 s 的前缀为 prefix 则返回去掉前缀后的 string , 否则 s 没有变化。\n",
       "\ts4 := strings.TrimPrefix(&#34; aaba &#34;, &#34; a&#34;) //aba\n",
       "\n",
       "</div>\n",
       "\n",
       "<br/>\n",
       "\n",
       "<span class=\"gonb-cell-line-info\">Cell[10]: Line 9</span>\n",
       "<span class=\"gonb-error-location\">./main.go:18:2: </span> s4 declared but not used\n",
       "<div class=\"gonb-error-context\">\n",
       "\t// 将 s 右侧的匹配 cutset 中的任一字符的字符去掉\n",
       "\ts3 := strings.TrimRight(&#34; aaba #&#34;, &#34;#&#34;) // aaba\n",
       "\t// 如果 s 的前缀为 prefix 则返回去掉前缀后的 string , 否则 s 没有变化。\n",
       "<div class=\"gonb-error-line\">\ts4 := strings.TrimPrefix(&#34; aaba &#34;, &#34; a&#34;) //aba\n",
       "</div>\t// 如果 s 的后缀为 suffix 则返回去掉后缀后的 string , 否则 s 没有变化。\n",
       "\ts5 := strings.TrimSuffix(&#34; aaba &#34;, &#34;a &#34;) // aab\n",
       "\n",
       "</div>\n",
       "\n",
       "<br/>\n",
       "\n",
       "<span class=\"gonb-cell-line-info\">Cell[10]: Line 11</span>\n",
       "<span class=\"gonb-error-location\">./main.go:20:2: </span> s5 declared but not used\n",
       "<div class=\"gonb-error-context\">\n",
       "\t// 如果 s 的前缀为 prefix 则返回去掉前缀后的 string , 否则 s 没有变化。\n",
       "\ts4 := strings.TrimPrefix(&#34; aaba &#34;, &#34; a&#34;) //aba\n",
       "\t// 如果 s 的后缀为 suffix 则返回去掉后缀后的 string , 否则 s 没有变化。\n",
       "<div class=\"gonb-error-line\">\ts5 := strings.TrimSuffix(&#34; aaba &#34;, &#34;a &#34;) // aab\n",
       "</div>\t// 将 s 左侧和右侧的间隔符去掉。常见间隔符包括：&#39;\\t&#39;, &#39;\\n&#39;, &#39;\\v&#39;, &#39;\\f&#39;, &#39;\\r&#39;, &#39; &#39;, U+0085 (NEL)\n",
       "\ts6 := strings.TrimSpace(&#34; aaba &#34;) //aaba\n",
       "\n",
       "</div>\n",
       "\n",
       "<br/>\n",
       "\n",
       "<span class=\"gonb-cell-line-info\">Cell[10]: Line 13</span>\n",
       "<span class=\"gonb-error-location\">./main.go:22:2: </span> s6 declared but not used\n",
       "<div class=\"gonb-error-context\">\n",
       "\t// 如果 s 的后缀为 suffix 则返回去掉后缀后的 string , 否则 s 没有变化。\n",
       "\ts5 := strings.TrimSuffix(&#34; aaba &#34;, &#34;a &#34;) // aab\n",
       "\t// 将 s 左侧和右侧的间隔符去掉。常见间隔符包括：&#39;\\t&#39;, &#39;\\n&#39;, &#39;\\v&#39;, &#39;\\f&#39;, &#39;\\r&#39;, &#39; &#39;, U+0085 (NEL)\n",
       "<div class=\"gonb-error-line\">\ts6 := strings.TrimSpace(&#34; aaba &#34;) //aaba\n",
       "</div>\t// 将 s 左侧和右侧的匹配 f 的字符去掉\n",
       "\ts7 := strings.TrimFunc(&#34;% aaba #&#34;, func(r rune) bool {\n",
       "\n",
       "</div>\n",
       "\n",
       "<br/>\n",
       "\n",
       "<span class=\"gonb-cell-line-info\">Cell[10]: Line 15</span>\n",
       "<span class=\"gonb-error-location\">./main.go:24:2: </span> s7 declared but not used\n",
       "<div class=\"gonb-error-context\">\n",
       "\t// 将 s 左侧和右侧的间隔符去掉。常见间隔符包括：&#39;\\t&#39;, &#39;\\n&#39;, &#39;\\v&#39;, &#39;\\f&#39;, &#39;\\r&#39;, &#39; &#39;, U+0085 (NEL)\n",
       "\ts6 := strings.TrimSpace(&#34; aaba &#34;) //aaba\n",
       "\t// 将 s 左侧和右侧的匹配 f 的字符去掉\n",
       "<div class=\"gonb-error-line\">\ts7 := strings.TrimFunc(&#34;% aaba #&#34;, func(r rune) bool {\n",
       "</div>\t\treturn r == &#39;%&#39; || r == &#39;#&#39;\n",
       "\t}) // aaba \n",
       "\n",
       "</div>\n",
       "\n",
       "<br/>\n",
       "\n",
       "<span class=\"gonb-cell-line-info\">Cell[10]: Line 19</span>\n",
       "<span class=\"gonb-error-location\">./main.go:28:2: </span> s8 declared but not used\n",
       "<div class=\"gonb-error-context\">\n",
       "\t\treturn r == &#39;%&#39; || r == &#39;#&#39;\n",
       "\t}) // aaba \n",
       "\t// 将 s 左侧的匹配 f 的字符去掉\n",
       "<div class=\"gonb-error-line\">\ts8 := strings.TrimLeftFunc(&#34;%@ aaba #&#34;, func(r rune) bool {\n",
       "</div>\t\treturn r == &#39;%&#39;\n",
       "\t}) //@ aaba #\n",
       "\n",
       "</div>\n",
       "\n",
       "<br/>\n",
       "\n",
       "<span class=\"gonb-cell-line-info\">Cell[10]: Line 23</span>\n",
       "<span class=\"gonb-error-location\">./main.go:32:2: </span> s9 declared but not used\n",
       "<div class=\"gonb-error-context\">\n",
       "\t\treturn r == &#39;%&#39;\n",
       "\t}) //@ aaba #\n",
       "\t// 将 s 右侧的匹配 f 的字符去掉\n",
       "<div class=\"gonb-error-line\">\ts9 := strings.TrimRightFunc(&#34;% aaba $#&#34;, func(r rune) bool {\n",
       "</div>\t\treturn r == &#39;#&#39;\n",
       "\t}) //% aaba $\n",
       "\n",
       "</div>\n",
       "\n",
       "<br/>\n",
       "\n",
       "\n",
       "<span style=\"white-space: pre;\"> </span>\n",
       "\n",
       "<br/>\n",
       "\n",
       "</div>\n"
      ]
     },
     "metadata": {},
     "output_type": "display_data"
    },
    {
     "ename": "ERROR",
     "evalue": "failed to run \"/usr/local/opt/go/libexec/bin/go build -o /var/folders/0r/9vy7796d43v3tmp2fwwfqgpw0000gn/T/gonb_0aac953a/gonb_0aac953a\": exit status 2",
     "output_type": "error",
     "traceback": [
      "failed to run \"/usr/local/opt/go/libexec/bin/go build -o /var/folders/0r/9vy7796d43v3tmp2fwwfqgpw0000gn/T/gonb_0aac953a/gonb_0aac953a\": exit status 2"
     ]
    }
   ],
   "source": [
    "%%\n",
    "// 将 s 左侧和右侧中匹配 cutset 中的任一字符的字符去掉\n",
    "s := strings.Trim(\"% aaba #\", \"#%\") // aaba\n",
    "// 将 s 左侧的匹配 cutset 中的任一字符的字符去掉\n",
    "s2 := strings.TrimLeft(\"% aaba \", \"%\") // aaba\n",
    "// 将 s 右侧的匹配 cutset 中的任一字符的字符去掉\n",
    "s3 := strings.TrimRight(\" aaba #\", \"#\") // aaba\n",
    "// 如果 s 的前缀为 prefix 则返回去掉前缀后的 string , 否则 s 没有变化。\n",
    "s4 := strings.TrimPrefix(\" aaba \", \" a\") //aba\n",
    "// 如果 s 的后缀为 suffix 则返回去掉后缀后的 string , 否则 s 没有变化。\n",
    "s5 := strings.TrimSuffix(\" aaba \", \"a \") // aab\n",
    "// 将 s 左侧和右侧的间隔符去掉。常见间隔符包括：'\\t', '\\n', '\\v', '\\f', '\\r', ' ', U+0085 (NEL)\n",
    "s6 := strings.TrimSpace(\" aaba \") //aaba\n",
    "// 将 s 左侧和右侧的匹配 f 的字符去掉\n",
    "s7 := strings.TrimFunc(\"% aaba #\", func(r rune) bool {\n",
    "\treturn r == '%' || r == '#'\n",
    "}) // aaba \n",
    "// 将 s 左侧的匹配 f 的字符去掉\n",
    "s8 := strings.TrimLeftFunc(\"%@ aaba #\", func(r rune) bool {\n",
    "\treturn r == '%'\n",
    "}) //@ aaba #\n",
    "// 将 s 右侧的匹配 f 的字符去掉\n",
    "s9 := strings.TrimRightFunc(\"% aaba $#\", func(r rune) bool {\n",
    "\treturn r == '#'\n",
    "}) //% aaba $"
   ]
  },
  {
   "attachments": {},
   "cell_type": "markdown",
   "metadata": {},
   "source": [
    "### Replacer 类型\n",
    "进行多个替换。如果 oldnew 长度与奇数，会导致 panic"
   ]
  },
  {
   "cell_type": "code",
   "execution_count": null,
   "metadata": {},
   "outputs": [
    {
     "name": "stdout",
     "output_type": "stream",
     "text": [
      "zs你好，我的email是11@qq.com\n"
     ]
    }
   ],
   "source": [
    "%%\n",
    "r := strings.NewReplacer(\"{name}\", \"zs\", \"{email}\", \"11@qq.com\")\n",
    "fmt.Println(r.Replace(\"{name}你好，我的email是{email}\")) //zs你好，我的email是11@qq.com"
   ]
  }
 ],
 "metadata": {
  "kernelspec": {
   "display_name": "Go (gonb)",
   "language": "go",
   "name": "gonb"
  },
  "language_info": {
   "codemirror_mode": "",
   "file_extension": ".go",
   "mimetype": "",
   "name": "go",
   "nbconvert_exporter": "",
   "pygments_lexer": "",
   "version": "go1.19.2"
  },
  "orig_nbformat": 4
 },
 "nbformat": 4,
 "nbformat_minor": 2
}
