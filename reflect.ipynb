{
 "cells": [
  {
   "attachments": {},
   "cell_type": "markdown",
   "metadata": {},
   "source": [
    "# 反射\n",
    "反射是指在程序运行期对程序本身进行访问和修改的能力，程序在编译时变量被转换为内存地址，变量名不会被编译器写入到可执行部分，在运行程序时程序无法获取自身的信息。\n",
    "\n",
    "支持反射的语言可以在程序编译期将变量的反射信息，如字段名称、类型信息、结构体信息等整合到可执行文件中，并给程序提供接口访问反射信息，这样就可以在程序运行期获取类型的反射信息，并且有能力修改它们。"
   ]
  },
  {
   "attachments": {},
   "cell_type": "markdown",
   "metadata": {},
   "source": [
    "## 反射示例"
   ]
  },
  {
   "cell_type": "code",
   "execution_count": 13,
   "metadata": {},
   "outputs": [
    {
     "name": "stdout",
     "output_type": "stream",
     "text": [
      "type:float32\n",
      "float32 float32\n",
      "type:main.User\n",
      "User struct\n"
     ]
    }
   ],
   "source": [
    "import (\n",
    "\t\"fmt\"\n",
    "\t\"reflect\"\n",
    ")\n",
    "func reflectType(x interface{}) {\n",
    "\tv := reflect.TypeOf(x)\n",
    "\tfmt.Printf(\"type:%v\\n\", v)\n",
    "\tfmt.Println(v.Name(), v.Kind())\n",
    "}\n",
    "\n",
    "%%\n",
    "type User struct {\n",
    "}\n",
    "var a float32 = 3.14\n",
    "var b User\n",
    "reflectType(a) // type:float32 name:float32 kind:float32\n",
    "reflectType(b) // type:main.User name:User kind:struct"
   ]
  },
  {
   "attachments": {},
   "cell_type": "markdown",
   "metadata": {},
   "source": [
    "## 结构体反射示例\n",
    "\n",
    "示例1"
   ]
  },
  {
   "cell_type": "code",
   "execution_count": null,
   "metadata": {},
   "outputs": [
    {
     "name": "stdout",
     "output_type": "stream",
     "text": [
      "Student struct\n",
      "eric 90\n",
      "name:Name, IsExported:true, index:[0], type:string, json_tag:name\n",
      "name:Score, IsExported:true, index:[1], type:int, json_tag:score\n",
      "name:Score index:[1] type:int json_tag:score\n"
     ]
    }
   ],
   "source": [
    "type Student struct {\n",
    "\tName  string `json:\"name\"`\n",
    "\tScore int    `json:\"score\"`\n",
    "}\n",
    "%%\n",
    "stu1 := Student{\n",
    "\tName:  \"eric\",\n",
    "\tScore: 90,\n",
    "}\n",
    "t := reflect.TypeOf(stu1)\n",
    "v := reflect.ValueOf(stu1)      //值\n",
    "fmt.Println(t.Name(), t.Kind()) //Student struct\n",
    "if v.Kind() == reflect.Struct { //取结构体字段的值\n",
    "\tname := v.FieldByName(\"Name\").String() //eric\n",
    "\tscore := v.FieldByName(\"Score\").Int()  //90\n",
    "\tfmt.Println(name, score)\n",
    "}\n",
    "\n",
    "// 通过for循环遍历结构体的所有字段信息\n",
    "for i := 0; i < t.NumField(); i++ {\n",
    "\tfield := t.Field(i)\n",
    "\tfmt.Printf(\"name:%s, IsExported:%v, index:%d, type:%v, json_tag:%v\\n\", field.Name, field.IsExported(), field.Index, field.Type, field.Tag.Get(\"json\"))\n",
    "}\n",
    "\n",
    "// 通过字段名获取指定结构体字段信息\n",
    "if scoreField, ok := t.FieldByName(\"Score\"); ok {\n",
    "\tfmt.Printf(\"name:%s index:%d type:%v json_tag:%v\\n\", scoreField.Name, scoreField.Index, scoreField.Type, scoreField.Tag.Get(\"json\"))\n",
    "}"
   ]
  },
  {
   "attachments": {},
   "cell_type": "markdown",
   "metadata": {},
   "source": [
    "示例2"
   ]
  },
  {
   "cell_type": "code",
   "execution_count": 14,
   "metadata": {},
   "outputs": [
    {
     "name": "stdout",
     "output_type": "stream",
     "text": [
      "2\n",
      "method name:Sleep\n",
      "method:func() string\n",
      "好好睡觉，快快长大。\n",
      "method name:Study\n",
      "method:func() string\n",
      "好好学习，天天向上。\n"
     ]
    }
   ],
   "source": [
    "type Student struct {\n",
    "\tName  string `json:\"name\"`\n",
    "\tScore int    `json:\"score\"`\n",
    "}\n",
    "\n",
    "// 给student添加两个方法 Study和Sleep(注意瘦子米大写)\n",
    "func (s Student) Study() string {\n",
    "\tmsg := \"好好学习，天天向上。\"\n",
    "\tfmt.Println(msg)\n",
    "\treturn msg\n",
    "}\n",
    "\n",
    "func (s Student) Sleep() string {\n",
    "\tmsg := \"好好睡觉，快快长大。\"\n",
    "\tfmt.Println(msg)\n",
    "\treturn msg\n",
    "}\n",
    "\n",
    "func printMethod(x interface{}) {\n",
    "\tt := reflect.TypeOf(x)\n",
    "\tv := reflect.ValueOf(x)\n",
    "\n",
    "\tfmt.Println(t.NumMethod())\n",
    "\tfor i := 0; i < v.NumMethod(); i++ {\n",
    "\t\tmethodType := v.Method(i).Type()\n",
    "\t\tfmt.Printf(\"method name:%s\\n\", t.Method(i).Name)\n",
    "\t\tfmt.Printf(\"method:%s\\n\", methodType)\n",
    "\t\t// 通过反射调用方法传递的参数必须是 []reflect.Value 类型\n",
    "\t\tvar args = []reflect.Value{}\n",
    "\t\tv.Method(i).Call(args)\n",
    "\t}\n",
    "}\n",
    "%%\n",
    "//遍历s包含的方法\n",
    "printMethod(Student{Name: \"zs\", Score: 11})"
   ]
  }
 ],
 "metadata": {
  "kernelspec": {
   "display_name": "Go (gonb)",
   "language": "go",
   "name": "gonb"
  },
  "language_info": {
   "codemirror_mode": "",
   "file_extension": ".go",
   "mimetype": "",
   "name": "go",
   "nbconvert_exporter": "",
   "pygments_lexer": "",
   "version": "go1.19.2"
  },
  "orig_nbformat": 4
 },
 "nbformat": 4,
 "nbformat_minor": 2
}
