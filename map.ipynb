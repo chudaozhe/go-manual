{
 "cells": [
  {
   "attachments": {},
   "cell_type": "markdown",
   "metadata": {},
   "source": [
    "# Map\n",
    "Go语言中提供的映射关系容器为map，其内部使用散列表(hash)实现。\n",
    "\n",
    "map是一种无序的基于key-value的数据结构，Go语言中的map是引用类型，必须初始化才能使用。\n",
    "\n",
    "Go语言中map的定义语法如下：\n",
    "```\n",
    "map[KeyType]ValueType\n",
    "```\n",
    "- KeyType：表示键的类型。\n",
    "- ValueType：表示键对应的值的类型。\n",
    "\n",
    "map类型的变量默认初始值为nil，需要使用make()函数来分配内存。\n",
    "```\n",
    "make(map[KeyType]ValueType, [cap])\n",
    "```\n",
    "cap表示map的容量，该参数虽然不是必须的，但是我们应该在初始化map的时候就为其指定一个合适的容量。"
   ]
  },
  {
   "attachments": {},
   "cell_type": "markdown",
   "metadata": {},
   "source": [
    "## map基本使用"
   ]
  },
  {
   "cell_type": "code",
   "execution_count": 11,
   "metadata": {},
   "outputs": [
    {
     "name": "stdout",
     "output_type": "stream",
     "text": [
      "map[小明:100 张三:90]\n",
      "100\n",
      "type of a:map[string]int\n"
     ]
    }
   ],
   "source": [
    "%%\n",
    "scoreMap := make(map[string]int, 8)\n",
    "scoreMap[\"张三\"] = 90\n",
    "scoreMap[\"小明\"] = 100\n",
    "fmt.Println(scoreMap)\n",
    "fmt.Println(scoreMap[\"小明\"])\n",
    "fmt.Printf(\"type of a:%T\\n\", scoreMap)"
   ]
  },
  {
   "cell_type": "markdown",
   "metadata": {},
   "source": [
    "map也支持在声明的时候填充元素，例："
   ]
  },
  {
   "cell_type": "code",
   "execution_count": 12,
   "metadata": {},
   "outputs": [
    {
     "name": "stdout",
     "output_type": "stream",
     "text": [
      "map[password:123456 username:沙河小王子]\n"
     ]
    }
   ],
   "source": [
    "%%\n",
    "userInfo := map[string]string{\n",
    "    \"username\": \"沙河小王子\",\n",
    "    \"password\": \"123456\",\n",
    "}\n",
    "fmt.Println(userInfo)"
   ]
  },
  {
   "attachments": {},
   "cell_type": "markdown",
   "metadata": {},
   "source": [
    "## 判断某个键是否存在\n",
    "\n",
    "Go语言中有个判断map中键是否存在的特殊写法，格式：\n",
    "```\n",
    "value, ok := map[key]\n",
    "```"
   ]
  },
  {
   "cell_type": "code",
   "execution_count": 13,
   "metadata": {},
   "outputs": [
    {
     "name": "stdout",
     "output_type": "stream",
     "text": [
      "90\n"
     ]
    }
   ],
   "source": [
    "%%\n",
    "scoreMap := make(map[string]int)\n",
    "scoreMap[\"张三\"] = 90\n",
    "scoreMap[\"小明\"] = 100\n",
    "// 如果key存在ok为true,v为对应的值；不存在ok为false,v为值类型的零值\n",
    "v, ok := scoreMap[\"张三\"]\n",
    "if ok {\n",
    "\tfmt.Println(v)\n",
    "} else {\n",
    "\tfmt.Println(\"查无此人\")\n",
    "}"
   ]
  }
 ],
 "metadata": {
  "kernelspec": {
   "display_name": "Go (gonb)",
   "language": "go",
   "name": "gonb"
  },
  "language_info": {
   "codemirror_mode": "",
   "file_extension": ".go",
   "mimetype": "",
   "name": "go",
   "nbconvert_exporter": "",
   "pygments_lexer": "",
   "version": "go1.19.2"
  },
  "orig_nbformat": 4
 },
 "nbformat": 4,
 "nbformat_minor": 2
}
