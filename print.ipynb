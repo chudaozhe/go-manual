{
 "cells": [
  {
   "cell_type": "markdown",
   "metadata": {},
   "source": [
    "## Print\n",
    "Print系列函数会将内容输出到系统的标准输出，区别在于Print函数直接输出内容，printf函数支持格式化输出字符串，Println函数会在输出内容的结尾添加一个换行符。"
   ]
  },
  {
   "attachments": {},
   "cell_type": "markdown",
   "metadata": {},
   "source": [
    "### Printf"
   ]
  },
  {
   "cell_type": "code",
   "execution_count": 3,
   "metadata": {},
   "outputs": [
    {
     "name": "stdout",
     "output_type": "stream",
     "text": [
      "int\n",
      "100\n",
      "1100100\n",
      "100\n",
      "144\n",
      "64\n",
      "word\n",
      "word\n",
      "\"word\"\n"
     ]
    }
   ],
   "source": [
    "%%\n",
    "var n = 100\n",
    "// 查看类型\n",
    "fmt.Printf(\"%T\\n\", n)  // 查看数据类型\n",
    "fmt.Printf(\"%v\\n\", n)  // 查看变量值\n",
    "fmt.Printf(\"%b\\n\", n)  // 二进制\n",
    "fmt.Printf(\"%d\\n\", n)  // 十进制\n",
    "fmt.Printf(\"%o\\n\", n)  // 八进制\n",
    "fmt.Printf(\"%x\\n\", n)  // 十六进制\n",
    "\n",
    "var s = \"word\"\n",
    "fmt.Printf(\"%s\\n\", s)  // 字符串 word  不会体现类型\n",
    "fmt.Printf(\"%v\\n\", s)  // 字符串 word  不会体现类型\n",
    "fmt.Printf(\"%#v\\n\", s)  // 字符串 \"word\"  体现出了具类型"
   ]
  },
  {
   "attachments": {},
   "cell_type": "markdown",
   "metadata": {},
   "source": [
    "### Fprint\n",
    "Fprint系列函数会将内容输出到一个io.Writer接口类型的变量w中，我们通常使用这个函数往文件中写入内容。"
   ]
  },
  {
   "cell_type": "code",
   "execution_count": 4,
   "metadata": {},
   "outputs": [
    {
     "name": "stdout",
     "output_type": "stream",
     "text": [
      "向标准输出写入内容"
     ]
    }
   ],
   "source": [
    "%%\n",
    "// 向标准输出写入内容\n",
    "fmt.Fprint(os.Stdout, \"向标准输出写入内容\")\n",
    "\n",
    "// 向打开的文件句柄中写入内容\n",
    "file, _ := os.Create(\"./test.txt\")\n",
    "fmt.Fprintf(file, \"往文件中写入信息：%s\", \"haha\")"
   ]
  },
  {
   "attachments": {},
   "cell_type": "markdown",
   "metadata": {},
   "source": [
    "### Sprint\n",
    "Sprint系列函数会把传入的数据生成并返回一个字符串。"
   ]
  },
  {
   "cell_type": "code",
   "execution_count": 5,
   "metadata": {},
   "outputs": [
    {
     "name": "stdout",
     "output_type": "stream",
     "text": [
      "Eric\n"
     ]
    }
   ],
   "source": [
    "%%\n",
    "s1 := fmt.Sprint(\"Eric\")\n",
    "fmt.Println(s1)"
   ]
  },
  {
   "attachments": {},
   "cell_type": "markdown",
   "metadata": {},
   "source": [
    "### Errorf"
   ]
  }
 ],
 "metadata": {
  "kernelspec": {
   "display_name": "Go (gonb)",
   "language": "go",
   "name": "gonb"
  },
  "language_info": {
   "codemirror_mode": "",
   "file_extension": ".go",
   "mimetype": "",
   "name": "go",
   "nbconvert_exporter": "",
   "pygments_lexer": "",
   "version": "go1.19.2"
  },
  "orig_nbformat": 4
 },
 "nbformat": 4,
 "nbformat_minor": 2
}
