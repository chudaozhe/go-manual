{
 "cells": [
  {
   "attachments": {},
   "cell_type": "markdown",
   "metadata": {},
   "source": [
    "# 文件"
   ]
  },
  {
   "attachments": {},
   "cell_type": "markdown",
   "metadata": {},
   "source": [
    "## 综合的"
   ]
  },
  {
   "cell_type": "code",
   "execution_count": 11,
   "metadata": {},
   "outputs": [
    {
     "name": "stdout",
     "output_type": "stream",
     "text": [
      "jj2"
     ]
    }
   ],
   "source": [
    "%%\n",
    "//写入文件\n",
    "err := os.WriteFile(\"./test.txt\", []byte(\"jj2\"), 0777)\n",
    "if err != nil {\n",
    "\tfmt.Printf(\"write file err %s\", err.Error())\n",
    "\treturn\n",
    "}\n",
    "//读取整个文件\n",
    "data, err := os.ReadFile(\"./test.txt\")\n",
    "fmt.Printf(\"%s\", data)"
   ]
  },
  {
   "attachments": {},
   "cell_type": "markdown",
   "metadata": {},
   "source": [
    "## 打开文件"
   ]
  },
  {
   "cell_type": "code",
   "execution_count": 14,
   "metadata": {},
   "outputs": [],
   "source": [
    "%%\n",
    "file, err := os.Open(\"./test.txt\")\n",
    "//  os.Create(\"./test.txt\")\n",
    "//  os.OpenFile(\"./test.txt\", os.O_WRONLY|os.O_APPEND, 0644) //追加写入\n",
    "//  os.OpenFile(name, O_RDWR|O_CREATE|O_TRUNC, 0666) //读写模式打开文件。文件存在则清空，不存在则创建，相当于 os.Create(\"./test.txt\")\n",
    "//  os.OpenFile(name, O_RDONLY, 0) //只读方式打开，相当于os.Open(\"./test.txt\")\n",
    "if err != nil {\n",
    "\tfmt.Printf(\"open file err %s\", err.Error())\n",
    "\treturn\n",
    "}\n",
    "//打开后记得关闭\n",
    "defer file.Close()\n"
   ]
  },
  {
   "attachments": {},
   "cell_type": "markdown",
   "metadata": {},
   "source": [
    "\n",
    "## 读取数据\n",
    "打开文件后就可以读取数据了\n",
    "\n",
    "file.Read()"
   ]
  },
  {
   "cell_type": "code",
   "execution_count": 15,
   "metadata": {},
   "outputs": [
    {
     "name": "stdout",
     "output_type": "stream",
     "text": [
      "3\n",
      "jj2"
     ]
    }
   ],
   "source": [
    "%%\n",
    "file, _ := os.Open(\"./test.txt\")\n",
    "defer file.Close()\n",
    "var tmp = make([]byte, 128)\n",
    "byteSize, err := file.Read(tmp)\n",
    "if err != nil {\n",
    "\tfmt.Printf(\"red file err %s\", err.Error())\n",
    "\treturn\n",
    "}\n",
    "fmt.Println(byteSize)\n",
    "fmt.Printf(\"%s\", tmp[:byteSize])"
   ]
  },
  {
   "attachments": {},
   "cell_type": "markdown",
   "metadata": {},
   "source": [
    "bufio.NewReader()"
   ]
  },
  {
   "cell_type": "code",
   "execution_count": 16,
   "metadata": {},
   "outputs": [],
   "source": [
    "%%\n",
    "file, _ := os.Open(\"./test.txt\")\n",
    "reader := bufio.NewReader(file)\n",
    "line, err := reader.ReadString('\\n') //读取一行\n",
    "if err != nil {\n",
    "\treturn\n",
    "}\n",
    "fmt.Printf(\"%s\", line)"
   ]
  },
  {
   "attachments": {},
   "cell_type": "markdown",
   "metadata": {},
   "source": [
    "## 写入数据\n",
    "\n",
    "Write/WriteString"
   ]
  },
  {
   "cell_type": "code",
   "execution_count": 17,
   "metadata": {},
   "outputs": [
    {
     "name": "stdout",
     "output_type": "stream",
     "text": [
      "4 4\n"
     ]
    }
   ],
   "source": [
    "%%\n",
    "file, _ := os.Create(\"./test.txt\")\n",
    "writeByteSize, _ := file.Write([]byte(\"aaa\\n\")) //写入字节切片数据\n",
    "writeStringSize, _ := file.WriteString(\"bbb\\n\") //直接写入字符串数据\n",
    "fmt.Println(writeByteSize, writeStringSize)"
   ]
  },
  {
   "attachments": {},
   "cell_type": "markdown",
   "metadata": {},
   "source": [
    "bufio.NewWriter"
   ]
  },
  {
   "cell_type": "code",
   "execution_count": 8,
   "metadata": {},
   "outputs": [],
   "source": [
    "%%\n",
    "file, _ := os.Create(\"./test.txt\")\n",
    "defer file.Close()\n",
    "writer := bufio.NewWriter(file)\n",
    "for i := 0; i < 10; i++ {\n",
    "\twriter.WriteString(\"hello eric\\n\") //将数据先写入缓存\n",
    "}\n",
    "writer.Flush() //将缓存中的内容写入文件"
   ]
  },
  {
   "attachments": {},
   "cell_type": "markdown",
   "metadata": {},
   "source": [
    "io.Copy"
   ]
  },
  {
   "cell_type": "code",
   "execution_count": 9,
   "metadata": {},
   "outputs": [
    {
     "name": "stdout",
     "output_type": "stream",
     "text": [
      "110\n"
     ]
    }
   ],
   "source": [
    "%%\n",
    "srcFile, _ := os.Open(\"./test.txt\")\n",
    "dstFile, _ := os.Create(\"./testCopy2.txt\")\n",
    "written, _ := io.Copy(dstFile, srcFile) //使用固定的32K缓冲区，因此无论源数据多大，都只会占用32K内存空间。\n",
    "fmt.Println(written)"
   ]
  },
  {
   "attachments": {},
   "cell_type": "markdown",
   "metadata": {},
   "source": [
    "## 完整例子\n",
    "读取整个文件"
   ]
  },
  {
   "cell_type": "code",
   "execution_count": 10,
   "metadata": {},
   "outputs": [
    {
     "name": "stdout",
     "output_type": "stream",
     "text": [
      "read file end EOFhello eric\n",
      "hello eric\n",
      "hello eric\n",
      "hello eric\n",
      "hello eric\n",
      "hello eric\n",
      "hello eric\n",
      "hello eric\n",
      "hello eric\n",
      "hello eric\n"
     ]
    }
   ],
   "source": [
    "%%\n",
    "file, err := os.Open(\"./test.txt\")\n",
    "if err != nil {\n",
    "\tfmt.Printf(\"open file err %s\", err.Error())\n",
    "\treturn\n",
    "}\n",
    "defer file.Close()\n",
    "\n",
    "content := make([]byte, 0)\n",
    "for {\n",
    "\tvar tmp = make([]byte, 1280)\n",
    "\tbyteSize, err := file.Read(tmp)\n",
    "\tif err == io.EOF {\n",
    "\t\tfmt.Printf(\"read file end %s\", err.Error())\n",
    "\t\tbreak\n",
    "\t}\n",
    "\tif err != nil {\n",
    "\t\tfmt.Printf(\"red file err %s\", err.Error())\n",
    "\t\treturn\n",
    "\t}\n",
    "\tcontent = append(content, tmp[:byteSize]...)\n",
    "}\n",
    "fmt.Printf(\"%s\", content)"
   ]
  }
 ],
 "metadata": {
  "kernelspec": {
   "display_name": "Go (gonb)",
   "language": "go",
   "name": "gonb"
  },
  "language_info": {
   "codemirror_mode": "",
   "file_extension": ".go",
   "mimetype": "",
   "name": "go",
   "nbconvert_exporter": "",
   "pygments_lexer": "",
   "version": "go1.19.2"
  },
  "orig_nbformat": 4
 },
 "nbformat": 4,
 "nbformat_minor": 2
}
